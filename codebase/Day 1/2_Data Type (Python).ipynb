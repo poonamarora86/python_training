{
 "cells": [
  {
   "cell_type": "markdown",
   "id": "68483dbf",
   "metadata": {},
   "source": [
    "1. Python\n",
    "2. Why Python bevcame so popular for machine learning?\n",
    "3. Data types \n",
    "4. Anaconda \n",
    "5. Intro to Git"
   ]
  },
  {
   "cell_type": "markdown",
   "id": "efe32e9b",
   "metadata": {},
   "source": [
    "* Python is a general purpose language created by Guido van Rossom in 1991\n",
    "    * Web development\n",
    "    * Software dev\n",
    "    * Mathematics\n",
    " \n",
    "* There are few main reasons of python becoming a popular choice\n",
    "     * Simiplicity in terms of both reading and writing\n",
    "     * Its interpreted language (quick prototyping)\n",
    "     * Rich source of libraries\n",
    "     "
   ]
  },
  {
   "cell_type": "code",
   "execution_count": 8,
   "id": "1efd5d37",
   "metadata": {},
   "outputs": [
    {
     "name": "stdout",
     "output_type": "stream",
     "text": [
      "hello\n"
     ]
    }
   ],
   "source": [
    "x = \"hello\"\n",
    "print (x)"
   ]
  },
  {
   "cell_type": "code",
   "execution_count": 6,
   "id": "c3381bfb",
   "metadata": {},
   "outputs": [
    {
     "data": {
      "text/plain": [
       "str"
      ]
     },
     "execution_count": 6,
     "metadata": {},
     "output_type": "execute_result"
    }
   ],
   "source": [
    "type(x)"
   ]
  },
  {
   "cell_type": "code",
   "execution_count": 9,
   "id": "565aba8a",
   "metadata": {},
   "outputs": [
    {
     "name": "stdout",
     "output_type": "stream",
     "text": [
      "Type of y is =  <class 'str'>\n"
     ]
    }
   ],
   "source": [
    "y = '3'\n",
    "print(\"Type of y is = \", type(y))"
   ]
  },
  {
   "cell_type": "markdown",
   "id": "b51a694c",
   "metadata": {},
   "source": [
    "## How to define a variable in Python\n",
    "\n",
    "* A variable can have a short name (like x and y) or a more descriptive name (age, carname, total_volume). Rules for Python variables:\n",
    "* A variable name must start with a letter or the underscore character\n",
    "* A variable name cannot start with a number\n",
    "* A variable name can only contain alpha-numeric characters and underscores (A-z, 0-9, and _ )\n",
    "* Variable names are case-sensitive (age, Age and AGE are three different variables)\n",
    "\n"
   ]
  },
  {
   "cell_type": "markdown",
   "id": "46cb3f8f",
   "metadata": {},
   "source": [
    "## name case\n",
    "* Camel case: Each word, except the first, starts with a capital letter e.g. myVariableName\n",
    "* Pascal Case: Each word starts with a capital letter e.g. MyVariableName\n",
    "* Snake case: Each word is separated by an underscore character e.g. my_variable_name"
   ]
  },
  {
   "cell_type": "markdown",
   "id": "6aec147a",
   "metadata": {},
   "source": [
    "## Data types\n",
    "\n",
    "* Text Type:\t    str\n",
    "* Numeric Types:\tint, float, complex\n",
    "* Sequence Types:\tlist, tuple, range\n",
    "* Mapping Type:\t    dict\n",
    "* Set Types:\t    set, frozenset\n",
    "* Boolean Type:\t    bool\n",
    "* Binary Types:\t    bytes, bytearray, memoryview\n",
    "* None Type:\t    NoneType"
   ]
  },
  {
   "cell_type": "markdown",
   "id": "4da4919a",
   "metadata": {},
   "source": [
    "## Comments\n",
    "\n",
    "* Single line comment\n",
    "* Multi line comment"
   ]
  },
  {
   "cell_type": "markdown",
   "id": "51069d64",
   "metadata": {},
   "source": [
    "### Exercises\n",
    "\n",
    "* Create a variable named 'car_name' and assign the value 'BMW' to it.\n",
    "* Create a variable named x and assign the value 50 to it.\n",
    "* Display the sum of 5 + 10, using two variables: x and y\n",
    "* Create a variable called z, assign x + y to it, and display the result.  \n",
    "    x = 20  \n",
    "    y = 10  \n",
    "* Is the variable name correct: 2my-first_name = \"John\"\n",
    "* "
   ]
  },
  {
   "cell_type": "markdown",
   "id": "ac6951bb",
   "metadata": {},
   "source": [
    "\n"
   ]
  },
  {
   "cell_type": "markdown",
   "id": "2c502f9a",
   "metadata": {},
   "source": [
    "## Lists\n",
    "* What is a list?\n",
    "* unpacking a list\n",
    "* How to traverse through a list?\n"
   ]
  },
  {
   "cell_type": "code",
   "execution_count": 10,
   "id": "2ae80eb3",
   "metadata": {},
   "outputs": [
    {
     "name": "stdout",
     "output_type": "stream",
     "text": [
      "two\n"
     ]
    }
   ],
   "source": [
    "a,b,c = \"one\", \"two\", \"three\"\n",
    "print(b)"
   ]
  },
  {
   "cell_type": "code",
   "execution_count": 14,
   "id": "1baa70b1",
   "metadata": {},
   "outputs": [
    {
     "name": "stdout",
     "output_type": "stream",
     "text": [
      "lion\n"
     ]
    }
   ],
   "source": [
    "## Unpacking\n",
    "\n",
    "animals = ['lion', 'tiger', 'hippo']\n",
    "l,t,h = animals\n",
    "print(l)"
   ]
  },
  {
   "cell_type": "code",
   "execution_count": 12,
   "id": "b0050481",
   "metadata": {},
   "outputs": [
    {
     "data": {
      "text/plain": [
       "'lion'"
      ]
     },
     "execution_count": 12,
     "metadata": {},
     "output_type": "execute_result"
    }
   ],
   "source": [
    "animals[0]"
   ]
  },
  {
   "cell_type": "code",
   "execution_count": 20,
   "id": "e9d6a0c4",
   "metadata": {},
   "outputs": [
    {
     "name": "stdout",
     "output_type": "stream",
     "text": [
      "lion\n",
      "tiger\n",
      "hippo\n"
     ]
    }
   ],
   "source": [
    "for i in range(0,len(animals)):\n",
    "    print(animals[i])"
   ]
  },
  {
   "cell_type": "code",
   "execution_count": 21,
   "id": "173e548c",
   "metadata": {},
   "outputs": [
    {
     "data": {
      "text/plain": [
       "tuple"
      ]
     },
     "execution_count": 21,
     "metadata": {},
     "output_type": "execute_result"
    }
   ],
   "source": [
    "x = (\"apple\", \"banana\", \"cherry\")\n",
    "type(x)"
   ]
  },
  {
   "cell_type": "code",
   "execution_count": 22,
   "id": "2d2b1eda",
   "metadata": {},
   "outputs": [
    {
     "data": {
      "text/plain": [
       "list"
      ]
     },
     "execution_count": 22,
     "metadata": {},
     "output_type": "execute_result"
    }
   ],
   "source": [
    "ls = [1,2,3,'4']\n",
    "type(ls)"
   ]
  },
  {
   "cell_type": "code",
   "execution_count": 23,
   "id": "e17248cc",
   "metadata": {},
   "outputs": [
    {
     "name": "stdout",
     "output_type": "stream",
     "text": [
      "0\n",
      "1\n",
      "2\n",
      "3\n",
      "4\n",
      "5\n"
     ]
    }
   ],
   "source": [
    "for i in range(6):\n",
    "    print(i)"
   ]
  },
  {
   "cell_type": "code",
   "execution_count": 24,
   "id": "7c24c8ac",
   "metadata": {},
   "outputs": [
    {
     "data": {
      "text/plain": [
       "['apple', 'orange', 'pineapple']"
      ]
     },
     "execution_count": 24,
     "metadata": {},
     "output_type": "execute_result"
    }
   ],
   "source": [
    "list((\"apple\", \"orange\", \"pineapple\"))"
   ]
  },
  {
   "cell_type": "code",
   "execution_count": 25,
   "id": "0d519c83",
   "metadata": {},
   "outputs": [
    {
     "data": {
      "text/plain": [
       "('apple', 'pineapple')"
      ]
     },
     "execution_count": 25,
     "metadata": {},
     "output_type": "execute_result"
    }
   ],
   "source": [
    "tuple((\"apple\", \"pineapple\"))"
   ]
  },
  {
   "cell_type": "code",
   "execution_count": 30,
   "id": "3a366557",
   "metadata": {},
   "outputs": [
    {
     "data": {
      "text/plain": [
       "complex"
      ]
     },
     "execution_count": 30,
     "metadata": {},
     "output_type": "execute_result"
    }
   ],
   "source": [
    "z = -5j\n",
    "type(z)"
   ]
  },
  {
   "cell_type": "code",
   "execution_count": 31,
   "id": "3270780b",
   "metadata": {},
   "outputs": [
    {
     "name": "stdout",
     "output_type": "stream",
     "text": [
      "1.0\n",
      "2\n",
      "(1+0j)\n",
      "<class 'float'>\n",
      "<class 'int'>\n",
      "<class 'complex'>\n"
     ]
    }
   ],
   "source": [
    "x = 1    # int\n",
    "y = 2.8  # float\n",
    "z = 1j   # complex\n",
    "\n",
    "#convert from int to float:\n",
    "a = float(x)\n",
    "\n",
    "#convert from float to int:\n",
    "b = int(y)\n",
    "\n",
    "#convert from int to complex:\n",
    "c = complex(x)\n",
    "\n",
    "print(a)\n",
    "print(b)\n",
    "print(c)\n",
    "\n",
    "print(type(a))\n",
    "print(type(b))\n",
    "print(type(c))"
   ]
  },
  {
   "cell_type": "code",
   "execution_count": null,
   "id": "f03721b7",
   "metadata": {},
   "outputs": [],
   "source": []
  },
  {
   "cell_type": "markdown",
   "id": "ee1888d1",
   "metadata": {},
   "source": [
    "### Exercises\n"
   ]
  },
  {
   "cell_type": "markdown",
   "id": "8e7ee509",
   "metadata": {},
   "source": [
    "## Dictionaries"
   ]
  },
  {
   "cell_type": "markdown",
   "id": "bdea27ce",
   "metadata": {},
   "source": [
    "### Exercises"
   ]
  },
  {
   "cell_type": "markdown",
   "id": "5e3d207c",
   "metadata": {},
   "source": [
    "## Functions\n"
   ]
  },
  {
   "cell_type": "markdown",
   "id": "ddd04bde",
   "metadata": {},
   "source": [
    "### Exercises"
   ]
  },
  {
   "cell_type": "code",
   "execution_count": null,
   "id": "7a1a2629",
   "metadata": {},
   "outputs": [],
   "source": []
  }
 ],
 "metadata": {
  "kernelspec": {
   "display_name": "Python 3 (ipykernel)",
   "language": "python",
   "name": "python3"
  },
  "language_info": {
   "codemirror_mode": {
    "name": "ipython",
    "version": 3
   },
   "file_extension": ".py",
   "mimetype": "text/x-python",
   "name": "python",
   "nbconvert_exporter": "python",
   "pygments_lexer": "ipython3",
   "version": "3.8.13"
  }
 },
 "nbformat": 4,
 "nbformat_minor": 5
}
