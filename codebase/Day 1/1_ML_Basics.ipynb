{
 "cells": [
  {
   "cell_type": "markdown",
   "id": "4dccbe37-5ee2-4b36-a5d2-b7bb3c4ed058",
   "metadata": {
    "slideshow": {
     "slide_type": "slide"
    }
   },
   "source": [
    "## Machine Learning Basics\n",
    "\n",
    "* What is Machine Learning?\n",
    "* How it came into prominence?\n",
    "* Types of Machine Learning\n",
    "* Applications\n",
    "* Life cycle of Data science Project"
   ]
  },
  {
   "cell_type": "markdown",
   "id": "3d7c6fdd",
   "metadata": {
    "slideshow": {
     "slide_type": "slide"
    }
   },
   "source": [
    "## Machine Learning \n",
    "\n",
    "Its an academoc field of study at the intersection of Compyter science and Statistics, it draws concept and theories from both disciplines. \n",
    "\n",
    "![ML](Pictures/ML1.png)"
   ]
  },
  {
   "cell_type": "markdown",
   "id": "0598e3c7-663c-4297-a244-3d242045f72b",
   "metadata": {
    "slideshow": {
     "slide_type": "slide"
    }
   },
   "source": [
    "## How it came into prominence?"
   ]
  },
  {
   "cell_type": "markdown",
   "id": "1e3ef591-919e-4d86-92bc-0272bfa1e43e",
   "metadata": {
    "slideshow": {
     "slide_type": "slide"
    }
   },
   "source": [
    "## Types of Machine Learning\n",
    "\n",
    "* Supervised Learning\n",
    "* Unsupervsed Learning\n",
    "* Reinforcement Learning\n"
   ]
  },
  {
   "cell_type": "markdown",
   "id": "04334dcb-6f53-484c-bb8f-c1dcc685590c",
   "metadata": {
    "slideshow": {
     "slide_type": "slide"
    }
   },
   "source": [
    "## Applications\n",
    "\n",
    "* Identify an email as spam or not\n",
    "* Predict the probability of a customer staying with the bank, taking. aproduct etc\n",
    "* Predict the price of house based on multiple criteria's\n",
    "* Profiling customers in a dataset"
   ]
  },
  {
   "cell_type": "markdown",
   "id": "de2d470f",
   "metadata": {
    "slideshow": {
     "slide_type": "slide"
    }
   },
   "source": [
    "## Life Cycle of Data Science project\n",
    "\n",
    "![Life cycle](Pictures/DS_lifecycle.png)"
   ]
  },
  {
   "cell_type": "code",
   "execution_count": null,
   "id": "9a759c67",
   "metadata": {},
   "outputs": [],
   "source": []
  }
 ],
 "metadata": {
  "celltoolbar": "Slideshow",
  "kernelspec": {
   "display_name": "Python 3 (ipykernel)",
   "language": "python",
   "name": "python3"
  },
  "language_info": {
   "codemirror_mode": {
    "name": "ipython",
    "version": 3
   },
   "file_extension": ".py",
   "mimetype": "text/x-python",
   "name": "python",
   "nbconvert_exporter": "python",
   "pygments_lexer": "ipython3",
   "version": "3.8.13"
  }
 },
 "nbformat": 4,
 "nbformat_minor": 5
}
